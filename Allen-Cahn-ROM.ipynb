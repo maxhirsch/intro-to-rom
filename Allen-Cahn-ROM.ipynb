{
 "cells": [
  {
   "cell_type": "code",
   "execution_count": null,
   "id": "c98df31a-51a5-47ef-9821-c1a351063e6f",
   "metadata": {},
   "outputs": [],
   "source": [
    "import numpy as np\n",
    "import matplotlib.pyplot as plt\n",
    "from tqdm import tqdm\n",
    "\n",
    "np.random.seed(0)\n",
    "\n",
    "params = {'legend.fontsize': 'x-large',\n",
    "         'axes.labelsize': 'x-large',\n",
    "         'axes.titlesize':'x-large',\n",
    "         'xtick.labelsize':'x-large',\n",
    "         'ytick.labelsize':'x-large'}\n",
    "plt.rcParams.update(params)\n",
    "prop_cycle = plt.rcParams['axes.prop_cycle']"
   ]
  },
  {
   "cell_type": "code",
   "execution_count": null,
   "id": "d7133f26-7b8c-4e4a-b09a-0f2538b6d3f7",
   "metadata": {},
   "outputs": [],
   "source": [
    "def F(u):\n",
    "    return (u**2 - 1)**2/4\n",
    "\n",
    "def f(u):\n",
    "    return u - u**3"
   ]
  },
  {
   "cell_type": "markdown",
   "id": "3b5f2cb9-facb-457f-a6fe-2cfd8fbf81e5",
   "metadata": {},
   "source": [
    "## Plot Double Well Potential"
   ]
  },
  {
   "cell_type": "code",
   "execution_count": null,
   "id": "1cf25653-aeeb-4da3-90c6-cc0d6493a538",
   "metadata": {},
   "outputs": [],
   "source": [
    "u = np.linspace(-2, 2, 100)\n",
    "plt.plot(u, F(u))\n",
    "plt.xlabel(\"$u$\")\n",
    "plt.ylabel(\"$F(u)$\")\n",
    "plt.title(\"Double Well Potential\")\n",
    "plt.savefig(\"double-well-potential.pdf\", bbox_inches=\"tight\")\n",
    "plt.show()"
   ]
  },
  {
   "cell_type": "markdown",
   "id": "ed230c78-72b7-49b0-b9d2-411c95afa90d",
   "metadata": {},
   "source": [
    "## Allen-Cahn Equation"
   ]
  },
  {
   "cell_type": "markdown",
   "id": "00f6b6d5-efae-480a-9f64-1a990bd7e76d",
   "metadata": {},
   "source": [
    "### Initial Condition\n",
    "\n",
    "Here we choose $u_0(x; \\mu) = \\mu_1x(x-1)(x-\\mu_2)$ with $\\mu_1, \\mu_2 \\in [0.1, 0.9]$."
   ]
  },
  {
   "cell_type": "code",
   "execution_count": null,
   "id": "caddf59d-8536-416c-8a81-877d6ccfa3fb",
   "metadata": {},
   "outputs": [],
   "source": [
    "def u0(x, mu):\n",
    "    return mu[0]*x*(x-1)*(x-mu[1])"
   ]
  },
  {
   "cell_type": "code",
   "execution_count": null,
   "id": "fbe77da8-fee1-4ae4-802d-63b1f230d719",
   "metadata": {},
   "outputs": [],
   "source": [
    "# plot some examples of u0\n",
    "x = np.linspace(0, 1, 100)\n",
    "plt.plot(x, u0(x, [0.1, 0.1]), label=\"0.1, 0.1\")\n",
    "plt.plot(x, u0(x, [0.1, 0.9]), label=\"0.1, 0.9\")\n",
    "plt.plot(x, u0(x, [0.5, 0.5]), label=\"0.5, 0.5\")\n",
    "plt.plot(x, u0(x, [0.9, 0.1]), label=\"0.9, 0.1\")\n",
    "plt.plot(x, u0(x, [0.9, 0.9]), label=\"0.9, 0.9\")\n",
    "plt.legend()\n",
    "plt.xlabel(\"$x$\")\n",
    "plt.ylabel(\"$u_0(x; \\\\mu)$\")\n",
    "plt.show()"
   ]
  },
  {
   "cell_type": "markdown",
   "id": "bce80cff-4b20-4894-86d1-479d63e721bc",
   "metadata": {},
   "source": [
    "### Solve the Equation"
   ]
  },
  {
   "cell_type": "code",
   "execution_count": null,
   "id": "a09f435b-cb03-431d-9e54-16d4f33da3f8",
   "metadata": {},
   "outputs": [],
   "source": [
    "def solve_allen_cahn(Nt, Nx, mu):\n",
    "    # discretize space and time\n",
    "    x = np.linspace(0, 1, Nx)\n",
    "    t = np.linspace(0, 1, Nt)\n",
    "\n",
    "    dt = t[1] - t[0] # time step\n",
    "    A = np.diag(-2*np.ones(Nx)) + np.diag(np.ones(Nx-1), 1) + np.diag(np.ones(Nx-1), -1)\n",
    "\n",
    "    # initialize solution\n",
    "    sol = np.zeros((Nt, Nx))\n",
    "    sol[0] = u0(x, mu) # set time 0 to be initial condition\n",
    "\n",
    "    # time step with forward Euler\n",
    "    for t_i in range(1, Nt):\n",
    "        sol[t_i] = sol[t_i-1] + dt*A@sol[t_i-1] + dt*f(sol[t_i-1])\n",
    "    \n",
    "    return sol"
   ]
  },
  {
   "cell_type": "code",
   "execution_count": null,
   "id": "b0f38381-7d29-44db-947d-81cd17f4c650",
   "metadata": {},
   "outputs": [],
   "source": [
    "Nt = 100\n",
    "Nx = 100\n",
    "\n",
    "# solve Allen-Cahn for three different parameters\n",
    "mu = np.array([0.5, 0.1])\n",
    "sol1 = solve_allen_cahn(Nt, Nx, mu)\n",
    "\n",
    "mu = np.array([0.5, 0.5])\n",
    "sol2 = solve_allen_cahn(Nt, Nx, mu)\n",
    "\n",
    "mu = np.array([0.5, 0.9])\n",
    "sol3 = solve_allen_cahn(Nt, Nx, mu)\n",
    "\n",
    "# plot results\n",
    "fig, axes = plt.subplots(1, 3, figsize=(15, 5), constrained_layout=True)\n",
    "vmin = min(sol1.min(), sol2.min(), sol3.min())\n",
    "vmax = max(sol1.max(), sol2.max(), sol3.max())\n",
    "\n",
    "im1 = axes[0].imshow(sol1, vmin=vmin, vmax=vmax)\n",
    "axes[0].set_title(\"$\\\\mu = (0.5, 0.1)$\")\n",
    "\n",
    "im2 = axes[1].imshow(sol2, vmin=vmin, vmax=vmax)\n",
    "axes[1].set_title(\"$\\\\mu = (0.5, 0.5)$\")\n",
    "\n",
    "im3 = axes[2].imshow(sol3, vmin=vmin, vmax=vmax)\n",
    "axes[2].set_title(\"$\\\\mu = (0.5, 0.9)$\")\n",
    "\n",
    "fig.colorbar(im1, ax=axes, orientation='vertical', fraction=.1)\n",
    "plt.savefig(\"allen-cahn-solutions.pdf\", bbox_inches=\"tight\")\n",
    "plt.show()"
   ]
  },
  {
   "cell_type": "markdown",
   "id": "01dcffbd-e60b-4e4c-b13c-8cd8bc0871b9",
   "metadata": {},
   "source": [
    "## Singular Values of Snapshot Matrix: Fast Decay!"
   ]
  },
  {
   "cell_type": "code",
   "execution_count": null,
   "id": "3bd7ef89-ca88-4ed1-a287-b707b2c3419a",
   "metadata": {},
   "outputs": [],
   "source": [
    "snapshots = np.concatenate((sol1, sol2, sol3))\n",
    "U, S, V = np.linalg.svd(snapshots, full_matrices=False)\n",
    "plt.scatter(np.arange(S.shape[0]), S)\n",
    "plt.yscale('log')\n",
    "plt.show()"
   ]
  },
  {
   "cell_type": "markdown",
   "id": "8122f860-b002-4b05-87a9-3b3f4d30ef8c",
   "metadata": {},
   "source": [
    "## Let's compute a better POD basis"
   ]
  },
  {
   "cell_type": "code",
   "execution_count": null,
   "id": "4beb6864-4707-425a-b335-c561c30ce51d",
   "metadata": {},
   "outputs": [],
   "source": [
    "# First, we solve the equation for some different parameters\n",
    "Nt = 1000\n",
    "Nx = 1000\n",
    "snapshots = None\n",
    "for mu1 in tqdm(np.linspace(0.1, 0.9, 4)):\n",
    "    for mu2 in tqdm(np.linspace(0.1, 0.9, 4)):\n",
    "        sol = solve_allen_cahn(Nt, Nx, np.array([mu1, mu2]))\n",
    "        if snapshots is None:\n",
    "            snapshots = sol\n",
    "        else:\n",
    "            snapshots = np.concatenate((snapshots, sol))"
   ]
  },
  {
   "cell_type": "code",
   "execution_count": null,
   "id": "c25b723c-ba7f-4b1a-8c54-f67f25ea0130",
   "metadata": {},
   "outputs": [],
   "source": [
    "U, S, V = np.linalg.svd(snapshots.T, full_matrices=False)"
   ]
  },
  {
   "cell_type": "code",
   "execution_count": null,
   "id": "56ab4127-365f-43d0-b353-216fd24ecb1e",
   "metadata": {},
   "outputs": [],
   "source": [
    "plt.scatter(np.arange(S.shape[0])[:100], S[:100])\n",
    "plt.yscale('log')\n",
    "plt.show()"
   ]
  },
  {
   "cell_type": "markdown",
   "id": "d4929db3-7331-474d-849d-7733d6b33a04",
   "metadata": {},
   "source": [
    "From this plot of the singular values, we see that we can take a small rank $r$, say $r=30$, to capture the data in our snapshot matrix. Let's now make a ROM to solve the Allen-Cahn equation."
   ]
  },
  {
   "cell_type": "code",
   "execution_count": null,
   "id": "41d6f1d4-569c-45c5-b035-484713aceef9",
   "metadata": {},
   "outputs": [],
   "source": [
    "r = 30\n",
    "U_r = U[:, :r]\n",
    "\n",
    "Nt = 1000\n",
    "Nx = 1000\n",
    "\n",
    "# discretize space and time\n",
    "x = np.linspace(0, 1, Nx)\n",
    "t = np.linspace(0, 1, Nt)\n",
    "\n",
    "dt = t[1] - t[0] # time step\n",
    "A = U_r.T @ (np.diag(-2*np.ones(Nx)) + np.diag(np.ones(Nx-1), 1) + np.diag(np.ones(Nx-1), -1)) @ U_r\n",
    "\n",
    "def solve_allen_cahn_rom(Nt, Nx, mu):\n",
    "    # initialize solution\n",
    "    sol = np.zeros((Nt, r))\n",
    "    sol[0] = U_r.T @ u0(x, mu) # set time 0 to be initial condition\n",
    "\n",
    "    # time step with forward Euler\n",
    "    for t_i in range(1, Nt):\n",
    "        sol[t_i] = sol[t_i-1] + dt*A@sol[t_i-1] + dt*U_r.T @ f(U_r @ sol[t_i-1])\n",
    "    \n",
    "    return sol"
   ]
  },
  {
   "cell_type": "code",
   "execution_count": null,
   "id": "90572695-e525-4b75-b9fd-7fa8e5afac5a",
   "metadata": {},
   "outputs": [],
   "source": [
    "snapshots_rom = None\n",
    "for mu1 in tqdm(np.linspace(0.1, 0.9, 4)):\n",
    "    for mu2 in tqdm(np.linspace(0.1, 0.9, 4)):\n",
    "        sol = solve_allen_cahn_rom(Nt, Nx, np.array([mu1, mu2]))\n",
    "        if snapshots_rom is None:\n",
    "            snapshots_rom = sol\n",
    "        else:\n",
    "            snapshots_rom = np.concatenate((snapshots_rom, sol))"
   ]
  },
  {
   "cell_type": "code",
   "execution_count": null,
   "id": "8f7e3888-2d80-43a7-a57e-2bdd798fb731",
   "metadata": {},
   "outputs": [],
   "source": [
    "print(\"Error on POD sample points\")\n",
    "print(\"Relative Error:\", np.linalg.norm(snapshots - snapshots_rom @ U_r.T) / np.linalg.norm(snapshots), \n",
    "      \"Absolute Error:\", np.linalg.norm(snapshots - snapshots_rom @ U_r.T))"
   ]
  },
  {
   "cell_type": "markdown",
   "id": "d963d1e7-053c-45f8-9962-97efa12f149f",
   "metadata": {},
   "source": [
    "## Compute Error on New Samples"
   ]
  },
  {
   "cell_type": "code",
   "execution_count": null,
   "id": "77bebef3-a4bc-418d-aa99-3df40ff9d7ec",
   "metadata": {},
   "outputs": [],
   "source": [
    "rom_solutions = []\n",
    "hf_solutions = []\n",
    "\n",
    "for trial in tqdm(range(15)):\n",
    "    mu1 = np.random.uniform(0.1, 0.9)\n",
    "    mu2 = np.random.uniform(0.1, 0.9)\n",
    "    sol_rom = solve_allen_cahn_rom(Nt, Nx, np.array([mu1, mu2]))\n",
    "    sol_hf = solve_allen_cahn(Nt, Nx, np.array([mu1, mu2]))\n",
    "\n",
    "    rom_solutions.append(sol_rom)\n",
    "    hf_solutions.append(sol_hf)"
   ]
  },
  {
   "cell_type": "code",
   "execution_count": null,
   "id": "f042e122-c402-4aaf-b2d9-b4ea53a603ea",
   "metadata": {},
   "outputs": [],
   "source": [
    "error_ = np.sqrt(np.sum((np.array(rom_solutions)@U_r.T - np.array(hf_solutions))**2))\n",
    "norm_ = np.sqrt(np.sum(np.array(hf_solutions)**2))\n",
    "\n",
    "print(\"Error on randomly sampled points\")\n",
    "print(\"Relative Error:\", error_/norm_, \"Absolute Error:\", error_)"
   ]
  },
  {
   "cell_type": "code",
   "execution_count": null,
   "id": "71c1e556-2e4a-4138-a1e0-9a5120615538",
   "metadata": {},
   "outputs": [],
   "source": []
  }
 ],
 "metadata": {
  "kernelspec": {
   "display_name": "Python 3 (ipykernel)",
   "language": "python",
   "name": "python3"
  },
  "language_info": {
   "codemirror_mode": {
    "name": "ipython",
    "version": 3
   },
   "file_extension": ".py",
   "mimetype": "text/x-python",
   "name": "python",
   "nbconvert_exporter": "python",
   "pygments_lexer": "ipython3",
   "version": "3.12.7"
  }
 },
 "nbformat": 4,
 "nbformat_minor": 5
}
